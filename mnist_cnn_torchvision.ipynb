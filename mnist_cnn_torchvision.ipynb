{
 "cells": [
  {
   "cell_type": "code",
   "execution_count": 1,
   "id": "05f1ef81",
   "metadata": {},
   "outputs": [],
   "source": [
    "import torch as T\n",
    "import torchvision\n",
    "import torchvision.transforms as transforms\n",
    "import matplotlib.pyplot as plt\n",
    "import numpy as np\n",
    "\n",
    "device = T.device(\"cpu\")\n"
   ]
  },
  {
   "cell_type": "code",
   "execution_count": 3,
   "id": "e9f8f94f",
   "metadata": {},
   "outputs": [],
   "source": [
    "transform = transforms.Compose([\n",
    "    transforms.ToTensor(),  # Converts to [0, 1]\n",
    "])\n",
    "\n",
    "train_ds = torchvision.datasets.MNIST(root='./data', train=True, download=True, transform=transform)\n",
    "test_ds = torchvision.datasets.MNIST(root='./data', train=False, download=True, transform=transform)\n",
    "# Reduce dataset size for faster training (optional)\n",
    "train_ds = T.utils.data.Subset(train_ds, list(range(1000)))\n",
    "test_ds = T.utils.data.Subset(test_ds, list(range(100)))\n",
    "\n",
    "# Filter to keep only images with label 0 or 1\n",
    "def filter_01(dataset):\n",
    "    idxs = [i for i in range(len(dataset)) if dataset[i][1] in [0, 1]]\n",
    "    return T.utils.data.Subset(dataset, idxs)\n",
    "\n",
    "train_ds = filter_01(train_ds)\n",
    "test_ds = filter_01(test_ds)\n",
    "\n",
    "train_ldr = T.utils.data.DataLoader(train_ds, batch_size=10, shuffle=True)\n"
   ]
  },
  {
   "cell_type": "code",
   "execution_count": 4,
   "id": "1d8b1a5d",
   "metadata": {},
   "outputs": [],
   "source": [
    "class Net(T.nn.Module):\n",
    "    def __init__(self):\n",
    "        super(Net, self).__init__()\n",
    "        self.conv1 = T.nn.Conv2d(1, 32, 5)\n",
    "        self.conv2 = T.nn.Conv2d(32, 64, 5)\n",
    "        self.pool1 = T.nn.MaxPool2d(2, stride=2)\n",
    "        self.pool2 = T.nn.MaxPool2d(2, stride=2)\n",
    "        self.drop1 = T.nn.Dropout(0.25)\n",
    "        self.drop2 = T.nn.Dropout(0.50)\n",
    "        self.fc1 = T.nn.Linear(1024, 512)\n",
    "        self.fc2 = T.nn.Linear(512, 256)\n",
    "        self.fc3 = T.nn.Linear(256, 10)\n",
    "\n",
    "    def forward(self, x):\n",
    "        z = T.relu(self.conv1(x))\n",
    "        z = self.pool1(z)\n",
    "        z = self.drop1(z)\n",
    "        z = T.relu(self.conv2(z))\n",
    "        z = self.pool2(z)\n",
    "        z = z.view(-1, 1024)\n",
    "        z = T.relu(self.fc1(z))\n",
    "        z = self.drop2(z)\n",
    "        z = T.relu(self.fc2(z))\n",
    "        z = self.fc3(z)\n",
    "        return z\n"
   ]
  },
  {
   "cell_type": "code",
   "execution_count": 5,
   "id": "b3c87a0e",
   "metadata": {},
   "outputs": [],
   "source": [
    "def accuracy(model, ds):\n",
    "    ldr = T.utils.data.DataLoader(ds, batch_size=len(ds), shuffle=False)\n",
    "    n_correct = 0\n",
    "    for data in ldr:\n",
    "        (pixels, labels) = data\n",
    "        with T.no_grad():\n",
    "            oupts = model(pixels)\n",
    "        (_, predicteds) = T.max(oupts, 1)\n",
    "        n_correct += (predicteds == labels).sum().item()\n",
    "    return n_correct / len(ds)\n"
   ]
  },
  {
   "cell_type": "code",
   "execution_count": 6,
   "id": "d9a68024",
   "metadata": {},
   "outputs": [
    {
     "name": "stdout",
     "output_type": "stream",
     "text": [
      "Epoch 0 | Loss: 50.0334\n",
      "Epoch 5 | Loss: 13.5139\n",
      "Epoch 10 | Loss: 3.2140\n",
      "Epoch 15 | Loss: 1.0984\n",
      "Epoch 20 | Loss: 0.6477\n",
      "Epoch 25 | Loss: 0.4754\n",
      "Epoch 30 | Loss: 0.3548\n",
      "Epoch 35 | Loss: 0.3268\n",
      "Epoch 40 | Loss: 0.3872\n",
      "Epoch 45 | Loss: 0.2603\n"
     ]
    }
   ],
   "source": [
    "net = Net().to(device)\n",
    "loss_func = T.nn.CrossEntropyLoss()\n",
    "optimizer = T.optim.SGD(net.parameters(), lr=0.005)\n",
    "max_epochs = 50\n",
    "\n",
    "net.train()\n",
    "for epoch in range(max_epochs):\n",
    "    ep_loss = 0\n",
    "    for (X, y) in train_ldr:\n",
    "        optimizer.zero_grad()\n",
    "        oupt = net(X)\n",
    "        loss_val = loss_func(oupt, y)\n",
    "        ep_loss += loss_val.item()\n",
    "        loss_val.backward()\n",
    "        optimizer.step()\n",
    "    if epoch % 5 == 0:\n",
    "        print(f\"Epoch {epoch} | Loss: {ep_loss:.4f}\")\n"
   ]
  },
  {
   "cell_type": "code",
   "execution_count": 7,
   "id": "7b613af8",
   "metadata": {},
   "outputs": [
    {
     "name": "stdout",
     "output_type": "stream",
     "text": [
      "Accuracy on training set: 1.0000\n",
      "Accuracy on test set: 1.0000\n"
     ]
    }
   ],
   "source": [
    "net.eval()\n",
    "train_acc = accuracy(net, train_ds)\n",
    "print(f\"Accuracy on training set: {train_acc:.4f}\")\n",
    "\n",
    "test_acc = accuracy(net, test_ds)\n",
    "print(f\"Accuracy on test set: {test_acc:.4f}\")\n"
   ]
  },
  {
   "cell_type": "code",
   "execution_count": 9,
   "id": "50797234",
   "metadata": {},
   "outputs": [
    {
     "data": {
      "image/png": "[encoded data removed]",
      "text/plain": [
       "<Figure size 640x480 with 1 Axes>"
      ]
     },
     "metadata": {},
     "output_type": "display_data"
    },
    {
     "name": "stdout",
     "output_type": "stream",
     "text": [
      "Predicted class: 'zero'\n"
     ]
    }
   ],
   "source": [
    "from PIL import Image\n",
    "\n",
    "img = Image.open(\"drawing_1.png\").convert(\"L\").resize((28, 28))\n",
    "x = np.array(img, dtype=np.float32) / 255.0\n",
    "\n",
    "plt.imshow(x, cmap='gray_r')\n",
    "plt.axis('off')\n",
    "plt.show()\n",
    "\n",
    "x = x.reshape(1, 1, 28, 28)\n",
    "x = T.tensor(x, dtype=T.float32).to(device)\n",
    "with T.no_grad():\n",
    "    oupt = net(x)\n",
    "am = T.argmax(oupt)\n",
    "digits = ['one', 'zero']\n",
    "print(f\"Predicted class: '{digits[am]}'\")\n"
   ]
  },
  {
   "cell_type": "code",
   "execution_count": 9,
   "id": "feaca812",
   "metadata": {},
   "outputs": [
    {
     "name": "stdout",
     "output_type": "stream",
     "text": [
      "Model saved.\n"
     ]
    }
   ],
   "source": [
    "T.save(net.state_dict(), \"./mnist_model.pt\")\n",
    "print(\"Model saved.\")\n"
   ]
  }
 ],
 "metadata": {
  "kernelspec": {
   "display_name": "Python 3",
   "language": "python",
   "name": "python3"
  },
  "language_info": {
   "codemirror_mode": {
    "name": "ipython",
    "version": 3
   },
   "file_extension": ".py",
   "mimetype": "text/x-python",
   "name": "python",
   "nbconvert_exporter": "python",
   "pygments_lexer": "ipython3",
   "version": "3.12.8"
  }
 },
 "nbformat": 4,
 "nbformat_minor": 5
}
