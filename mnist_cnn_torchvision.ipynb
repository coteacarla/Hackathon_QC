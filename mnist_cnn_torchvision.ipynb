{
 "cells": [
  {
   "cell_type": "code",
   "execution_count": 1,
   "id": "05f1ef81",
   "metadata": {},
   "outputs": [],
   "source": [
    "import torch as T\n",
    "import torchvision\n",
    "import torchvision.transforms as transforms\n",
    "import matplotlib.pyplot as plt\n",
    "import numpy as np\n",
    "\n",
    "device = T.device(\"cpu\")\n"
   ]
  },
  {
   "cell_type": "code",
   "execution_count": 2,
   "id": "e9f8f94f",
   "metadata": {},
   "outputs": [],
   "source": [
    "transform = transforms.Compose([\n",
    "    transforms.ToTensor(),  # Converts to [0, 1]\n",
    "])\n",
    "\n",
    "full_train_ds = torchvision.datasets.MNIST(root='./data', train=True, download=True, transform=transform)\n",
    "full_test_ds = torchvision.datasets.MNIST(root='./data', train=False, download=True, transform=transform)\n",
    "\n",
    "\n",
    "train_targets = np.array(full_train_ds.targets.tolist())\n",
    "selected_train_indices = []\n",
    "for digit in range(10):\n",
    "    indices = np.where(train_targets == digit)[0]\n",
    "    np.random.shuffle(indices)\n",
    "    selected_train_indices.extend(indices[:500])\n",
    "\n",
    "train_ds = T.utils.data.Subset(full_train_ds, selected_train_indices)\n",
    "\n",
    "test_targets = np.array(full_test_ds.targets.tolist())\n",
    "selected_test_indices = []\n",
    "for digit in range(10):\n",
    "    indices = np.where(test_targets == digit)[0]\n",
    "    np.random.shuffle(indices)\n",
    "    selected_test_indices.extend(indices[:20])\n",
    "\n",
    "test_ds = T.utils.data.Subset(full_test_ds, selected_test_indices)\n",
    "\n",
    "train_ldr = T.utils.data.DataLoader(train_ds, batch_size=10, shuffle=True)\n"
   ]
  },
  {
   "cell_type": "code",
   "execution_count": 3,
   "id": "1d8b1a5d",
   "metadata": {},
   "outputs": [],
   "source": [
    "class Net(T.nn.Module):\n",
    "    def __init__(self):\n",
    "        super(Net, self).__init__()\n",
    "        self.conv1 = T.nn.Conv2d(1, 32, 5)\n",
    "        self.conv2 = T.nn.Conv2d(32, 64, 5)\n",
    "        self.pool1 = T.nn.MaxPool2d(2, stride=2)\n",
    "        self.pool2 = T.nn.MaxPool2d(2, stride=2)\n",
    "        self.drop1 = T.nn.Dropout(0.25)\n",
    "        self.drop2 = T.nn.Dropout(0.50)\n",
    "        self.fc1 = T.nn.Linear(1024, 512)\n",
    "        self.fc2 = T.nn.Linear(512, 256)\n",
    "        self.fc3 = T.nn.Linear(256, 10)  \n",
    "    def forward(self, x):\n",
    "        z = T.relu(self.conv1(x))\n",
    "        z = self.pool1(z)\n",
    "        z = self.drop1(z)\n",
    "        z = T.relu(self.conv2(z))\n",
    "        z = self.pool2(z)\n",
    "        z = z.view(-1, 1024)\n",
    "        z = T.relu(self.fc1(z))\n",
    "        z = self.drop2(z)\n",
    "        z = T.relu(self.fc2(z))\n",
    "        z = self.fc3(z)\n",
    "        return z\n"
   ]
  },
  {
   "cell_type": "code",
   "execution_count": 4,
   "id": "b3c87a0e",
   "metadata": {},
   "outputs": [],
   "source": [
    "def accuracy(model, ds):\n",
    "    ldr = T.utils.data.DataLoader(ds, batch_size=len(ds), shuffle=False)\n",
    "    n_correct = 0\n",
    "    for data in ldr:\n",
    "        (pixels, labels) = data\n",
    "        with T.no_grad():\n",
    "            oupts = model(pixels)\n",
    "        (_, predicteds) = T.max(oupts, 1)\n",
    "        n_correct += (predicteds == labels).sum().item()\n",
    "    return n_correct / len(ds)\n"
   ]
  },
  {
   "cell_type": "code",
   "execution_count": 5,
   "id": "d9a68024",
   "metadata": {},
   "outputs": [
    {
     "name": "stdout",
     "output_type": "stream",
     "text": [
      "Epoch 0 | Loss: 940.9143\n",
      "Epoch 5 | Loss: 64.8562\n",
      "Epoch 10 | Loss: 35.3797\n",
      "Epoch 15 | Loss: 20.4541\n",
      "Epoch 20 | Loss: 12.5873\n",
      "Epoch 25 | Loss: 8.0612\n",
      "Epoch 30 | Loss: 5.5824\n",
      "Epoch 35 | Loss: 3.9676\n",
      "Epoch 40 | Loss: 5.9033\n",
      "Epoch 45 | Loss: 3.7252\n",
      "Epoch 50 | Loss: 2.6076\n",
      "Epoch 55 | Loss: 2.9461\n",
      "Epoch 60 | Loss: 1.9765\n",
      "Epoch 65 | Loss: 0.7715\n",
      "Epoch 70 | Loss: 1.1480\n",
      "Epoch 75 | Loss: 0.8613\n"
     ]
    },
    {
     "data": {
      "image/png": "[encoded data removed]",
      "text/plain": [
       "<Figure size 1000x500 with 1 Axes>"
      ]
     },
     "metadata": {},
     "output_type": "display_data"
    }
   ],
   "source": [
    "\n",
    "loss_history = []\n",
    "net = Net().to(device)\n",
    "loss_func = T.nn.CrossEntropyLoss()\n",
    "optimizer = T.optim.SGD(net.parameters(), lr=0.02)\n",
    "max_epochs = 80\n",
    "\n",
    "net.train()\n",
    "for epoch in range(max_epochs):\n",
    "    ep_loss = 0\n",
    "    for (X, y) in train_ldr:\n",
    "        optimizer.zero_grad()\n",
    "        output = net(X)\n",
    "        loss_val = loss_func(output, y)\n",
    "        ep_loss += loss_val.item()\n",
    "        loss_val.backward()\n",
    "        optimizer.step()\n",
    "    loss_history.append(ep_loss)\n",
    "    if epoch % 5 == 0:\n",
    "        print(f\"Epoch {epoch} | Loss: {ep_loss:.4f}\")\n",
    "\n",
    "import matplotlib.pyplot as plt\n",
    "plt.figure(figsize=(10, 5))\n",
    "plt.plot(range(max_epochs), loss_history, marker='o')\n",
    "plt.title('Training Loss Convergence')\n",
    "plt.xlabel('Epoch')\n",
    "plt.ylabel('Loss')\n",
    "plt.grid(True)\n",
    "plt.show()"
   ]
  },
  {
   "cell_type": "code",
   "execution_count": 6,
   "id": "7b613af8",
   "metadata": {},
   "outputs": [
    {
     "name": "stdout",
     "output_type": "stream",
     "text": [
      "Accuracy on training set: 1.0000\n",
      "Accuracy on test set: 0.9900\n"
     ]
    }
   ],
   "source": [
    "net.eval()\n",
    "train_acc = accuracy(net, train_ds)\n",
    "print(f\"Accuracy on training set: {train_acc:.4f}\")\n",
    "\n",
    "test_acc = accuracy(net, test_ds)\n",
    "print(f\"Accuracy on test set: {test_acc:.4f}\")\n"
   ]
  },
  {
   "cell_type": "code",
   "execution_count": 7,
   "id": "4d81dd6d",
   "metadata": {},
   "outputs": [
    {
     "name": "stdout",
     "output_type": "stream",
     "text": [
      "Total trainable parameters: 710794\n"
     ]
    }
   ],
   "source": [
    "def count_parameters(model):\n",
    "    return sum(p.numel() for p in model.parameters() if p.requires_grad)\n",
    "\n",
    "print(f\"Total trainable parameters: {count_parameters(net)}\")"
   ]
  },
  {
   "cell_type": "code",
   "execution_count": 8,
   "id": "50797234",
   "metadata": {},
   "outputs": [
    {
     "data": {
      "image/png": "[encoded data removed]",
      "text/plain": [
       "<Figure size 640x480 with 1 Axes>"
      ]
     },
     "metadata": {},
     "output_type": "display_data"
    },
    {
     "name": "stdout",
     "output_type": "stream",
     "text": [
      "Predicted class: 'five'\n"
     ]
    }
   ],
   "source": [
    "\n",
    "from PIL import Image  # type: ignore\n",
    "from PIL import ImageOps\n",
    "\n",
    "img = Image.open(\"digits_sample/drawing_5.png\").convert(\"L\").resize((28, 28))\n",
    "x = np.array(img, dtype=np.float32) / 255.0\n",
    "\n",
    "plt.imshow(x, cmap='gray')\n",
    "plt.axis('off')\n",
    "plt.show()\n",
    "\n",
    "x = x.reshape(1, 1, 28, 28)\n",
    "x = T.tensor(x, dtype=T.float32).to(device)\n",
    "with T.no_grad():\n",
    "    oupt = net(x)\n",
    "am = T.argmax(oupt)\n",
    "digits = ['zero', 'one', 'two', 'three', 'four', 'five', 'six', 'seven', 'eight', 'nine']\n",
    "print(f\"Predicted class: '{digits[am]}'\")\n"
   ]
  },
  {
   "cell_type": "code",
   "execution_count": 9,
   "id": "feaca812",
   "metadata": {},
   "outputs": [
    {
     "name": "stdout",
     "output_type": "stream",
     "text": [
      "Model saved.\n"
     ]
    }
   ],
   "source": [
    "T.save(net.state_dict(), \"./mnist_model.pt\")\n",
    "print(\"Model saved.\")\n"
   ]
  }
 ],
 "metadata": {
  "kernelspec": {
   "display_name": "Python 3",
   "language": "python",
   "name": "python3"
  },
  "language_info": {
   "codemirror_mode": {
    "name": "ipython",
    "version": 3
   },
   "file_extension": ".py",
   "mimetype": "text/x-python",
   "name": "python",
   "nbconvert_exporter": "python",
   "pygments_lexer": "ipython3",
   "version": "3.12.8"
  }
 },
 "nbformat": 4,
 "nbformat_minor": 5
}
